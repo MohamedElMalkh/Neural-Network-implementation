{
  "cells": [
    {
      "cell_type": "markdown",
      "id": "060a6423",
      "metadata": {
        "id": "060a6423"
      },
      "source": [
        "## Project #1\n",
        "## Create a Neural Network In Python"
      ]
    },
    {
      "cell_type": "markdown",
      "source": [
        "# Mohamed Helmy ElMalkh 201900859\n",
        "Nueral network with linear and activation layers (RELU AND SEGMOID)\n",
        "BONUS is added as the code is generic and you can add unlimited number of layers forward and backward "
      ],
      "metadata": {
        "id": "W6cQp9Yu49HE"
      },
      "id": "W6cQp9Yu49HE"
    },
    {
      "cell_type": "code",
      "execution_count": 10,
      "id": "9e2d06c1",
      "metadata": {
        "id": "9e2d06c1"
      },
      "outputs": [],
      "source": [
        "import numpy as np\n",
        "import pandas as pd\n",
        "import seaborn as sns\n",
        "from matplotlib import pyplot as plt\n",
        "from sklearn import datasets\n",
        "from sklearn.model_selection import train_test_split,cross_val_score\n",
        "from sklearn.preprocessing import StandardScaler,OneHotEncoder\n",
        "from itertools import compress\n",
        "from sklearn import metrics\n",
        "from numpy import random\n",
        "import math"
      ]
    },
    {
      "cell_type": "markdown",
      "source": [
        "This function to generate random number,but bounded"
      ],
      "metadata": {
        "id": "FeZAW2CO4x29"
      },
      "id": "FeZAW2CO4x29"
    },
    {
      "cell_type": "code",
      "source": [
        "def kaiming_uniform(fan_in, fan_out, nonlinearity=\"relu\", **kwargs):\n",
        "    assert nonlinearity == \"relu\", \"Only relu supported currently\"\n",
        "    bound = math.sqrt(2) * math.sqrt(3/fan_in)\n",
        "    u = random.rand(fan_in,fan_out) * (2*bound) - bound\n",
        "    return u"
      ],
      "metadata": {
        "id": "R__1Vd7LtjHa"
      },
      "id": "R__1Vd7LtjHa",
      "execution_count": 11,
      "outputs": []
    },
    {
      "cell_type": "markdown",
      "source": [
        "# **Layers**"
      ],
      "metadata": {
        "id": "wM4FMwZ9_2qW"
      },
      "id": "wM4FMwZ9_2qW"
    },
    {
      "cell_type": "markdown",
      "source": [
        "**parent** "
      ],
      "metadata": {
        "id": "DHsaS5wr_5e-"
      },
      "id": "DHsaS5wr_5e-"
    },
    {
      "cell_type": "markdown",
      "source": [
        "Linear Layer \n",
        "- the Forward is multiply each feature by a certain weight \n",
        "-the backword "
      ],
      "metadata": {
        "id": "ge1tUyjX4-11"
      },
      "id": "ge1tUyjX4-11"
    },
    {
      "cell_type": "code",
      "source": [
        "class Layer: \n",
        "  def forward(self,x): \n",
        "      raise NotImplementedError()\n",
        "  def backward(self,out_grad):\n",
        "      raise NotImplementedError()\n",
        "  def __call__(self, *args):\n",
        "      return self.forward(*args)"
      ],
      "metadata": {
        "id": "HGnECzbl_Lzm"
      },
      "id": "HGnECzbl_Lzm",
      "execution_count": 12,
      "outputs": []
    },
    {
      "cell_type": "markdown",
      "source": [
        "**Linear Layer**"
      ],
      "metadata": {
        "id": "dSh_uPRe_Z0N"
      },
      "id": "dSh_uPRe_Z0N"
    },
    {
      "cell_type": "code",
      "source": [
        "class Linear(Layer):\n",
        "    def __init__(self, in_features, out_features, bias=True):\n",
        "        self.in_features = in_features\n",
        "        self.out_features = out_features       \n",
        "        self.weight = kaiming_uniform(in_features,out_features)\n",
        "    def forward(self, X):\n",
        "        self.input = X\n",
        "        output = np.dot(X,self.weight)\n",
        "        return output\n",
        "    def backward(self,segma,rate):\n",
        "      delta = np.dot(np.array(self.input).T,np.array(segma))\n",
        "      out_grad = np.dot(segma,(self.weight).T)\n",
        "      self.weight -=  rate * delta\n",
        "      return out_grad\n"
      ],
      "metadata": {
        "id": "mdPKpUhc_mhC"
      },
      "id": "mdPKpUhc_mhC",
      "execution_count": 13,
      "outputs": []
    },
    {
      "cell_type": "markdown",
      "source": [
        "**Segmoid layer**"
      ],
      "metadata": {
        "id": "39goYH4C_-Jx"
      },
      "id": "39goYH4C_-Jx"
    },
    {
      "cell_type": "code",
      "source": [
        "def segmoid_fun(x):\n",
        "  return 1/(1 + np.exp(-x)) \n",
        "\n",
        "class Segmoid(Layer):\n",
        "  def forward(self, X):\n",
        "\n",
        "    self.output = segmoid_fun(X)\n",
        "\n",
        "    return self.output\n",
        "  def backward(self,loss):\n",
        "    return np.array(loss)*(1-np.array(self.output))*np.array(self.output)\n",
        "\n"
      ],
      "metadata": {
        "id": "zah-xwR5_XI3"
      },
      "id": "zah-xwR5_XI3",
      "execution_count": 14,
      "outputs": []
    },
    {
      "cell_type": "markdown",
      "source": [
        "**ReLU**"
      ],
      "metadata": {
        "id": "B90qUxN7t5xB"
      },
      "id": "B90qUxN7t5xB"
    },
    {
      "cell_type": "code",
      "source": [
        "class ReLU(Layer):\n",
        "  def forward(self, X):\n",
        "    self.input = X\n",
        "    return np.maximum(X,0)\n",
        "  def backward(self,loss):\n",
        "    return loss * (self.input > 0)"
      ],
      "metadata": {
        "id": "kOoQquU0t7aG"
      },
      "id": "kOoQquU0t7aG",
      "execution_count": 15,
      "outputs": []
    },
    {
      "cell_type": "markdown",
      "source": [
        "**Loss**"
      ],
      "metadata": {
        "id": "noZX8N_Y_0Os"
      },
      "id": "noZX8N_Y_0Os"
    },
    {
      "cell_type": "code",
      "source": [
        "class Loss:\n",
        "  def loss_grad(self,y,predict):\n",
        "    error  = (np.sum((predict - y)**2,axis= 0)/y.shape[0]).mean()\n",
        "    grad = -2*(y - predict)/len(y)\n",
        "    return error,grad"
      ],
      "metadata": {
        "id": "ytseRtDo_2me"
      },
      "id": "ytseRtDo_2me",
      "execution_count": 16,
      "outputs": []
    },
    {
      "cell_type": "markdown",
      "id": "b2d01c92",
      "metadata": {
        "id": "b2d01c92"
      },
      "source": [
        "## Test your model on IRIS  dataset and MNIST Dataset"
      ]
    },
    {
      "cell_type": "markdown",
      "source": [
        "# **IRIS TEST**"
      ],
      "metadata": {
        "id": "KfIbujyf1xKU"
      },
      "id": "KfIbujyf1xKU"
    },
    {
      "cell_type": "code",
      "source": [
        "iris_raw = datasets.load_iris();\n",
        "iris_df = pd.DataFrame(data = iris_raw.data , columns = iris_raw.feature_names)\n",
        "input = iris_raw.data\n",
        "output = pd.DataFrame(data = iris_raw.target , columns = ['target'])\n",
        "\n",
        "X_train , X_test , y_train , y_test = train_test_split(output,iris_raw.target ,test_size = 0.2 , random_state=42 , shuffle = True)\n",
        "\n",
        "\n",
        "scaler = StandardScaler()\n",
        "input = scaler.fit_transform(X_train)\n",
        "TestInput = scaler.fit_transform(X_test)\n",
        "\n",
        "\n",
        "H = OneHotEncoder()\n",
        "reshaped= y_train.reshape(len(y_train), 1)\n",
        "y = H.fit_transform(reshaped).toarray()\n",
        "\n",
        "\n",
        "reshapedO= y_test.reshape(len(y_test), 1)\n",
        "TestOutput = H.fit_transform(reshapedO).toarray()"
      ],
      "metadata": {
        "id": "6mTl0xCM9H6b"
      },
      "id": "6mTl0xCM9H6b",
      "execution_count": 17,
      "outputs": []
    },
    {
      "cell_type": "code",
      "source": [
        "input_size = input.shape\n",
        "input_size"
      ],
      "metadata": {
        "colab": {
          "base_uri": "https://localhost:8080/"
        },
        "id": "xAAwCRr5CqOu",
        "outputId": "110adadb-5383-4926-ce5d-6f9ff135e3d6"
      },
      "id": "xAAwCRr5CqOu",
      "execution_count": 18,
      "outputs": [
        {
          "output_type": "execute_result",
          "data": {
            "text/plain": [
              "(120, 1)"
            ]
          },
          "metadata": {},
          "execution_count": 18
        }
      ]
    },
    {
      "cell_type": "code",
      "source": [
        "out_size = output.target.unique().shape\n",
        "out_size[0]"
      ],
      "metadata": {
        "colab": {
          "base_uri": "https://localhost:8080/"
        },
        "id": "bWiR_piaDGZf",
        "outputId": "b9c4cb9c-5f1b-4b95-ea58-3d9e6ea08d13"
      },
      "id": "bWiR_piaDGZf",
      "execution_count": 19,
      "outputs": [
        {
          "output_type": "execute_result",
          "data": {
            "text/plain": [
              "3"
            ]
          },
          "metadata": {},
          "execution_count": 19
        }
      ]
    },
    {
      "cell_type": "code",
      "source": [
        "lin_1 = Linear(input.shape[1],20)\n",
        "act_1 = Segmoid()\n",
        "\n",
        "\n",
        "lin_2 = Linear(20,10)\n",
        "act_2 = Segmoid()\n",
        "\n",
        "lin_3 = Linear(10,out_size[0])\n",
        "act_3 = Segmoid()\n",
        "\n",
        "\n",
        "loss = Loss()\n",
        "\n",
        "for i in range(1000):\n",
        "  out = act_3(lin_3(act_2(lin_2(act_1(lin_1(input))))))\n",
        "  error,grad = loss.loss_grad(y,out)\n",
        "  if(error <= 0):\n",
        "    break\n",
        "\n",
        "  lin_1.backward(act_1.backward(lin_2.backward(act_2.backward(lin_3.backward(act_3.backward(grad),0.1)),0.1)),0.1)\n",
        " \n",
        "  \n",
        "print(\"last error = \",error)\n",
        "out = act_3(lin_3(act_2(lin_2(act_1(lin_1(input))))))"
      ],
      "metadata": {
        "colab": {
          "base_uri": "https://localhost:8080/"
        },
        "id": "sblnmdGRCm--",
        "outputId": "32ae7aeb-cf66-47d0-d6cf-f6a13d39f994"
      },
      "id": "sblnmdGRCm--",
      "execution_count": 20,
      "outputs": [
        {
          "output_type": "stream",
          "name": "stdout",
          "text": [
            "last error =  0.0656203260600635\n"
          ]
        }
      ]
    },
    {
      "cell_type": "code",
      "source": [
        "predicted = out.argmax(axis=1) "
      ],
      "metadata": {
        "id": "JAI24dDLxmq5"
      },
      "id": "JAI24dDLxmq5",
      "execution_count": 21,
      "outputs": []
    },
    {
      "cell_type": "code",
      "source": [
        "y_true = y.argmax(axis= 1)"
      ],
      "metadata": {
        "id": "dCG1B6tvxowb"
      },
      "id": "dCG1B6tvxowb",
      "execution_count": 22,
      "outputs": []
    },
    {
      "cell_type": "code",
      "execution_count": 23,
      "id": "bd4fece0",
      "metadata": {
        "id": "bd4fece0",
        "colab": {
          "base_uri": "https://localhost:8080/"
        },
        "outputId": "0607a9d6-95cf-4210-b1d5-a339b84d81ed"
      },
      "outputs": [
        {
          "output_type": "execute_result",
          "data": {
            "text/plain": [
              "1.0"
            ]
          },
          "metadata": {},
          "execution_count": 23
        }
      ],
      "source": [
        "(predicted == y_true).sum() /predicted.shape[0]"
      ]
    },
    {
      "cell_type": "markdown",
      "source": [
        "# Test the model"
      ],
      "metadata": {
        "id": "VdW8uaB_bfPm"
      },
      "id": "VdW8uaB_bfPm"
    },
    {
      "cell_type": "code",
      "source": [
        "out = act_3(lin_3(act_2(lin_2(act_1(lin_1(TestInput))))))"
      ],
      "metadata": {
        "id": "CYgFQcISbjky"
      },
      "id": "CYgFQcISbjky",
      "execution_count": 24,
      "outputs": []
    },
    {
      "cell_type": "code",
      "source": [
        "predicted = out.argmax(axis=1) "
      ],
      "metadata": {
        "id": "p1PzfKeYbp1H"
      },
      "id": "p1PzfKeYbp1H",
      "execution_count": 25,
      "outputs": []
    },
    {
      "cell_type": "code",
      "source": [
        "y_true = TestOutput.argmax(axis= 1)"
      ],
      "metadata": {
        "id": "A81t4JLebrlr"
      },
      "id": "A81t4JLebrlr",
      "execution_count": 26,
      "outputs": []
    },
    {
      "cell_type": "code",
      "source": [
        "(predicted == y_true).sum() /predicted.shape[0]"
      ],
      "metadata": {
        "id": "3DzUBRxTbsJu",
        "outputId": "33af2607-660f-4a33-a2c8-20f6d653fcb4",
        "colab": {
          "base_uri": "https://localhost:8080/"
        }
      },
      "id": "3DzUBRxTbsJu",
      "execution_count": 27,
      "outputs": [
        {
          "output_type": "execute_result",
          "data": {
            "text/plain": [
              "1.0"
            ]
          },
          "metadata": {},
          "execution_count": 27
        }
      ]
    },
    {
      "cell_type": "markdown",
      "source": [
        "# **MINSIT TEST**"
      ],
      "metadata": {
        "id": "YV91UPXg1sVD"
      },
      "id": "YV91UPXg1sVD"
    },
    {
      "cell_type": "code",
      "source": [
        "digits = datasets.load_digits()\n",
        "digits_df = pd.DataFrame(data = digits['data'], columns = digits['feature_names'])\n",
        "input = digits.data\n",
        "output = pd.DataFrame(data = digits.target , columns = ['target'])\n",
        "\n",
        "X_train , X_test , y_train , y_test = train_test_split(output,digits.target ,test_size = 0.2 , random_state=42 , shuffle = True)\n",
        "\n",
        "\n",
        "scaler = StandardScaler()\n",
        "input = scaler.fit_transform(X_train)\n",
        "TestInput = scaler.fit_transform(X_test)\n",
        "\n",
        "\n",
        "H = OneHotEncoder()\n",
        "reshaped= y_train.reshape(len(y_train), 1)\n",
        "y = H.fit_transform(reshaped).toarray()\n",
        "\n",
        "\n",
        "reshapedO= y_test.reshape(len(y_test), 1)\n",
        "TestOutput = H.fit_transform(reshapedO).toarray()"
      ],
      "metadata": {
        "id": "NHg1qrbuxjCn"
      },
      "id": "NHg1qrbuxjCn",
      "execution_count": 46,
      "outputs": []
    },
    {
      "cell_type": "code",
      "source": [
        "input_size = input.shape\n",
        "input_size"
      ],
      "metadata": {
        "colab": {
          "base_uri": "https://localhost:8080/"
        },
        "id": "9kqeWCQl0rSD",
        "outputId": "8c0224a7-b5be-4953-f117-396f0bebc60d"
      },
      "id": "9kqeWCQl0rSD",
      "execution_count": 47,
      "outputs": [
        {
          "output_type": "execute_result",
          "data": {
            "text/plain": [
              "(1437, 1)"
            ]
          },
          "metadata": {},
          "execution_count": 47
        }
      ]
    },
    {
      "cell_type": "code",
      "source": [
        "out_size = output.target.unique().shape\n",
        "out_size[0]"
      ],
      "metadata": {
        "colab": {
          "base_uri": "https://localhost:8080/"
        },
        "id": "goZkE6ur0tpL",
        "outputId": "f8ae2b94-07f2-4cdf-a89a-58aa04947efc"
      },
      "id": "goZkE6ur0tpL",
      "execution_count": 48,
      "outputs": [
        {
          "output_type": "execute_result",
          "data": {
            "text/plain": [
              "10"
            ]
          },
          "metadata": {},
          "execution_count": 48
        }
      ]
    },
    {
      "cell_type": "code",
      "source": [
        "lin_1 = Linear(input.shape[1],30)\n",
        "act_1 = ReLU()\n",
        "\n",
        "\n",
        "lin_2 = Linear(30,19)\n",
        "act_2 = Segmoid()\n",
        "\n",
        "lin_3 = Linear(19,out_size[0])\n",
        "act_3 = Segmoid()\n",
        "\n",
        "\n",
        "loss = Loss()\n",
        "\n",
        "for i in range(1000):\n",
        "  out = act_3(lin_3(act_2(lin_2(act_1(lin_1(input))))))\n",
        "  error,grad = loss.loss_grad(y,out)\n",
        "  if(error <= 0):\n",
        "    break\n",
        "\n",
        "  lin_1.backward(act_1.backward(lin_2.backward(act_2.backward(lin_3.backward(act_3.backward(grad),0.3)),0.1)),0.5)\n",
        " \n",
        "  \n",
        "print(\"last error = \",error)\n",
        "out = act_3(lin_3(act_2(lin_2(act_1(lin_1(input))))))"
      ],
      "metadata": {
        "colab": {
          "base_uri": "https://localhost:8080/"
        },
        "id": "4sg6kp940gS3",
        "outputId": "9a2732c4-7b97-45ae-8063-265bca4947d5"
      },
      "id": "4sg6kp940gS3",
      "execution_count": 49,
      "outputs": [
        {
          "output_type": "stream",
          "name": "stdout",
          "text": [
            "last error =  0.061695965620980196\n"
          ]
        }
      ]
    },
    {
      "cell_type": "code",
      "source": [
        "predicted = out.argmax(axis=1) "
      ],
      "metadata": {
        "id": "-ruLAUHG1IkH"
      },
      "id": "-ruLAUHG1IkH",
      "execution_count": 50,
      "outputs": []
    },
    {
      "cell_type": "code",
      "source": [
        "y_true = out.argmax(axis=1) "
      ],
      "metadata": {
        "id": "qOmtVssg1JJ8"
      },
      "id": "qOmtVssg1JJ8",
      "execution_count": 51,
      "outputs": []
    },
    {
      "cell_type": "code",
      "source": [
        "(predicted == y_true).sum() /predicted.shape[0]"
      ],
      "metadata": {
        "colab": {
          "base_uri": "https://localhost:8080/"
        },
        "id": "9BVJCCdx1NWS",
        "outputId": "e793e152-bee9-40a6-972f-3577d9b8fd32"
      },
      "id": "9BVJCCdx1NWS",
      "execution_count": 52,
      "outputs": [
        {
          "output_type": "execute_result",
          "data": {
            "text/plain": [
              "1.0"
            ]
          },
          "metadata": {},
          "execution_count": 52
        }
      ]
    },
    {
      "cell_type": "markdown",
      "source": [
        "# Test the model"
      ],
      "metadata": {
        "id": "12hlFY1sdz91"
      },
      "id": "12hlFY1sdz91"
    },
    {
      "cell_type": "code",
      "source": [
        "out = act_3(lin_3(act_2(lin_2(act_1(lin_1(TestInput))))))\n",
        "predicted = out.argmax(axis=1) \n",
        "y_true = TestOutput.argmax(axis=1) "
      ],
      "metadata": {
        "id": "OYF4Y2xCd2iE"
      },
      "id": "OYF4Y2xCd2iE",
      "execution_count": 53,
      "outputs": []
    },
    {
      "cell_type": "code",
      "source": [
        "(predicted == y_true).sum() /predicted.shape[0]"
      ],
      "metadata": {
        "id": "H7SQbTf_eEGB",
        "outputId": "6b6a1ebc-2264-48d1-be95-8a7a07fceae4",
        "colab": {
          "base_uri": "https://localhost:8080/"
        }
      },
      "id": "H7SQbTf_eEGB",
      "execution_count": 54,
      "outputs": [
        {
          "output_type": "execute_result",
          "data": {
            "text/plain": [
              "0.7472222222222222"
            ]
          },
          "metadata": {},
          "execution_count": 54
        }
      ]
    },
    {
      "cell_type": "markdown",
      "id": "ff0e3351",
      "metadata": {
        "id": "ff0e3351"
      },
      "source": [
        "## Refrence\n",
        "https://becominghuman.ai/understanding-neural-networks-2-the-math-of-neural-networks-in-3-equations-6085fd3f09df\n",
        "https://towardsdatascience.com/how-to-define-a-neural-network-as-a-mathematical-function-f7b820cde3f\n"
      ]
    },
    {
      "cell_type": "code",
      "source": [],
      "metadata": {
        "id": "MKg5NQ99hK70"
      },
      "id": "MKg5NQ99hK70",
      "execution_count": null,
      "outputs": []
    }
  ],
  "metadata": {
    "kernelspec": {
      "display_name": "Python 3 (ipykernel)",
      "language": "python",
      "name": "python3"
    },
    "language_info": {
      "codemirror_mode": {
        "name": "ipython",
        "version": 3
      },
      "file_extension": ".py",
      "mimetype": "text/x-python",
      "name": "python",
      "nbconvert_exporter": "python",
      "pygments_lexer": "ipython3",
      "version": "3.8.12"
    },
    "colab": {
      "provenance": []
    }
  },
  "nbformat": 4,
  "nbformat_minor": 5
}